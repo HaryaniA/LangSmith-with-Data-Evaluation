{
 "cells": [
  {
   "cell_type": "markdown",
   "metadata": {},
   "source": [
    "## Load Environment variables"
   ]
  },
  {
   "cell_type": "code",
   "execution_count": null,
   "metadata": {},
   "outputs": [],
   "source": [
    "from dotenv import load_dotenv, find_dotenv\n",
    "\n",
    "load_dotenv(find_dotenv())"
   ]
  },
  {
   "cell_type": "markdown",
   "metadata": {},
   "source": [
    "## Import libraries and LLM model"
   ]
  },
  {
   "cell_type": "code",
   "execution_count": null,
   "metadata": {},
   "outputs": [],
   "source": [
    "from langsmith import wrappers, Client\n",
    "from pydantic import BaseModel, Field\n",
    "from openai import OpenAI\n",
    "\n",
    "client = Client()\n",
    "openai_client = wrappers.wrap_openai(OpenAI())"
   ]
  },
  {
   "cell_type": "markdown",
   "metadata": {},
   "source": [
    "## Prepare dataset"
   ]
  },
  {
   "cell_type": "code",
   "execution_count": null,
   "metadata": {},
   "outputs": [],
   "source": [
    "# create a customer service dataset in LangSmith\n",
    "dataset = client.create_dataset(\n",
    "    dataset_name=\"Customer Service FAQ\",\n",
    "    description=\"A dataset of common customer service questions and responses.\"\n",
    ")\n",
    "\n",
    "# Create customer service examples\n",
    "examples = [\n",
    "    {\n",
    "        \"inputs\": {\"question\": \"How can I track my order?\"},\n",
    "        \"outputs\": {\"answer\": \"You can track your order using the tracking link sent to your email after shipping.\"},\n",
    "    },\n",
    "    {\n",
    "        \"inputs\": {\"question\": \"What is your return policy?\"},\n",
    "        \"outputs\": {\"answer\": \"We accept returns within 30 days of purchase as long as the item is in its original condition.\"},\n",
    "    },\n",
    "    {\n",
    "        \"inputs\": {\"question\": \"Do you offer international shipping?\"},\n",
    "        \"outputs\": {\"answer\": \"Yes, we ship internationally. Shipping fees and delivery times vary by location.\"},\n",
    "    },\n",
    "    {\n",
    "        \"inputs\": {\"question\": \"Can I change my shipping address after placing an order?\"},\n",
    "        \"outputs\": {\"answer\": \"If your order hasn’t shipped yet, please contact our support team to update your shipping address.\"},\n",
    "    },\n",
    "    {\n",
    "        \"inputs\": {\"question\": \"What should I do if I received a damaged product?\"},\n",
    "        \"outputs\": {\"answer\": \"We’re sorry to hear that! Please contact our support team with a photo of the damaged item for a replacement or refund.\"},\n",
    "    },\n",
    "]\n",
    "\n",
    "# Add examples to the dataset\n",
    "client.create_examples(dataset_id=dataset.id, inputs=[example[\"inputs\"] for example in examples],outputs=[example[\"outputs\"] for example in examples])"
   ]
  },
  {
   "cell_type": "markdown",
   "metadata": {},
   "source": [
    "## Generate output"
   ]
  },
  {
   "cell_type": "code",
   "execution_count": null,
   "metadata": {},
   "outputs": [],
   "source": [
    "# Target function to generate responses\n",
    "def target(inputs: dict) -> dict:\n",
    "    response = openai_client.chat.completions.create(\n",
    "        model=\"gpt-4o-mini\",\n",
    "        messages=[\n",
    "            {\"role\": \"system\", \"content\": \"Answer the following question accurately\"},\n",
    "            {\"role\": \"user\", \"content\": inputs[\"question\"]},\n",
    "        ],\n",
    "    )\n",
    "    return {\"response\": response.choices[0].message.content.strip()}"
   ]
  },
  {
   "cell_type": "markdown",
   "metadata": {},
   "source": [
    "## Generate evaluation metrics"
   ]
  },
  {
   "cell_type": "code",
   "execution_count": null,
   "metadata": {},
   "outputs": [],
   "source": [
    "# Evaluation instructions\n",
    "instructions = \"\"\"Evaluate the Customer Support Agent's Answer against the Ground Truth for conceptual similarity and classify as True or False:\n",
    "- False: If the agent's answer misses the main idea or gives incorrect/misleading info\n",
    "- True: If the answer covers the key concept, even with different wording\n",
    "- Key criteria: Conceptual match, not exact phrasing\n",
    "\"\"\"\n",
    "\n",
    "# Define the output schema for the LLM-based evaluator\n",
    "class Grade(BaseModel):\n",
    "    score: bool = Field(\n",
    "        description=\"Boolean indicating if the agent's response is accurate relative to the ground truth answer\"\n",
    "    )\n",
    "\n",
    "def accuracy(outputs: dict, reference_outputs: dict) -> bool:\n",
    "    response = openai_client.beta.chat.completions.parse(\n",
    "        model=\"gpt-4o-mini\",\n",
    "        messages=[\n",
    "            {\"role\": \"system\", \"content\": instructions},\n",
    "            {\n",
    "                \"role\": \"user\",\n",
    "                \"content\": f\"\"\"Ground Truth (Expected Answer): {reference_outputs[\"answer\"]}\n",
    "Agent's Response: {outputs[\"response\"]}\n",
    "Is this a conceptually correct response? Answer True or False.\"\"\"\n",
    "            },\n",
    "        ],\n",
    "        response_format=Grade,\n",
    "    )\n",
    "    return response.choices[0].message.parsed.score"
   ]
  },
  {
   "cell_type": "markdown",
   "metadata": {},
   "source": [
    "## Run the experiment"
   ]
  },
  {
   "cell_type": "code",
   "execution_count": null,
   "metadata": {},
   "outputs": [],
   "source": [
    "experiment_results = client.evaluate(\n",
    "  target,\n",
    "  data=\"Customer Service FAQ\",\n",
    "  evaluators=[\n",
    "      accuracy,\n",
    "      # can add multiple evaluators here\n",
    "  ],\n",
    "  experiment_prefix=\"CSS Experiment\",\n",
    "  max_concurrency=2,\n",
    ")"
   ]
  },
  {
   "cell_type": "code",
   "execution_count": 19,
   "metadata": {},
   "outputs": [
    {
     "name": "stdout",
     "output_type": "stream",
     "text": [
      "Experiment Results:\n",
      "\n",
      "Input Question: Can I change my shipping address after placing an order?\n",
      "Ground Truth Answer: If your order hasn’t shipped yet, please contact our support team to update your shipping address.\n",
      "Model Response: Yes, you can often change your shipping address after placing an order, but it depends on the retailer's policies and how far along the order process is. Here's what you can generally do:\n",
      "\n",
      "1. **Contact Customer Service**: Reach out to the retailer's customer service as soon as possible. They can inform you if it’s possible to change the address.\n",
      "\n",
      "2. **Check Your Order Status**: If your order has not yet been processed or shipped, you may have a better chance of changing the address.\n",
      "\n",
      "3. **Online Account**: If you have an online account with the retailer, you may be able to update your shipping address directly through your account details.\n",
      "\n",
      "4. **Cancellation and Re-order**: If changing the address is not possible, you might have to cancel the order and place a new one with the correct shipping address.\n",
      "\n",
      "Remember to act quickly, as once an order is in the shipping process, it may not be alterable.\n",
      "Evaluation Key: accuracy\n",
      "Score: True\n",
      "------------------------------------------------------------\n",
      "Input Question: Do you offer international shipping?\n",
      "Ground Truth Answer: Yes, we ship internationally. Shipping fees and delivery times vary by location.\n",
      "Model Response: As an AI language model, I don't offer products or services directly, including shipping. However, whether a specific company offers international shipping usually depends on their policies. You would need to check the website or contact the customer service of the specific retailer you're interested in for accurate information regarding their shipping options.\n",
      "Evaluation Key: accuracy\n",
      "Score: False\n",
      "------------------------------------------------------------\n",
      "Input Question: What should I do if I received a damaged product?\n",
      "Ground Truth Answer: We’re sorry to hear that! Please contact our support team with a photo of the damaged item for a replacement or refund.\n",
      "Model Response: If you've received a damaged product, here are the steps you should follow:\n",
      "\n",
      "1. **Document the Damage**: Take clear photos of the damage, including the packaging and any visible flaws on the product itself.\n",
      "\n",
      "2. **Check Return Policy**: Review the return and exchange policy of the retailer where you purchased the item. This will provide you with the necessary information on how to proceed.\n",
      "\n",
      "3. **Contact Customer Service**: Reach out to the retailer’s customer service department. Provide them with your order details, explain the situation, and share the photos of the damage if required.\n",
      "\n",
      "4. **Follow Instructions**: Follow any instructions provided by customer service for returning the damaged item or receiving a replacement. This may involve filling out a return form or shipping the item back.\n",
      "\n",
      "5. **Keep Records**: Maintain records of all communications with the retailer, including emails and receipts, in case you need to reference them later.\n",
      "\n",
      "6. **Prepare for Return**: If you need to return the item, carefully package it to prevent further damage and follow the return shipping instructions provided by the retailer.\n",
      "\n",
      "7. **Monitor for Updates**: Keep an eye on your email or account for updates regarding your return or replacement status.\n",
      "\n",
      "8. **Escalate if Necessary**: If you don’t receive a resolution in a timely manner, consider escalating the issue to a supervisor or manager within customer service.\n",
      "\n",
      "By following these steps, you should be able to resolve the issue with the damaged product effectively.\n",
      "Evaluation Key: accuracy\n",
      "Score: True\n",
      "------------------------------------------------------------\n",
      "Input Question: What is your return policy?\n",
      "Ground Truth Answer: We accept returns within 30 days of purchase as long as the item is in its original condition.\n",
      "Model Response: I don't have a specific return policy since I am an AI and do not sell products. However, if you're referring to a company's return policy, it typically varies depending on the retailer. It's best to check the specific company's website or contact their customer service for detailed information on their return policy, including timeframes, conditions for returns, and any associated fees.\n",
      "Evaluation Key: accuracy\n",
      "Score: False\n",
      "------------------------------------------------------------\n",
      "Input Question: How can I track my order?\n",
      "Ground Truth Answer: You can track your order using the tracking link sent to your email after shipping.\n",
      "Model Response: To track your order, you can follow these general steps:\n",
      "\n",
      "1. **Check Your Confirmation Email:** After placing your order, you should receive a confirmation email from the retailer. This email often includes a tracking number and a link to track your order.\n",
      "\n",
      "2. **Visit the Retailer’s Website:** Go to the website of the company you ordered from and look for an option such as \"Track Your Order\" or \"Order Status.\" You may need to enter your order number and possibly your email or other identifying information.\n",
      "\n",
      "3. **Use the Shipping Carrier's Website:** If you have a tracking number, you can go directly to the shipping carrier’s website (e.g., UPS, FedEx, DHL, USPS) and enter the tracking number to see the shipping status.\n",
      "\n",
      "4. **Log into Your Account:** If you have an account with the retailer, log in and check your order history, which should display the status of your order.\n",
      "\n",
      "5. **Contact Customer Service:** If you are unable to track your order through the above methods, you can contact the retailer's customer service for assistance.\n",
      "\n",
      "Make sure to have your order details ready to help them assist you more efficiently.\n",
      "Evaluation Key: accuracy\n",
      "Score: True\n",
      "------------------------------------------------------------\n"
     ]
    }
   ],
   "source": [
    "print(\"Experiment Results:\\n\")\n",
    "for result in experiment_results:\n",
    "    run = result[\"run\"]\n",
    "    example = result[\"example\"]\n",
    "    eval_results = result.get(\"evaluation_results\", {}).get(\"results\", [])\n",
    "\n",
    "    #print(f\"Example Link: {example.link}\")\n",
    "    print(f\"Input Question: {example.inputs.get('question')}\")\n",
    "    print(f\"Ground Truth Answer: {example.outputs.get('answer')}\")\n",
    "    \n",
    "    # You may need to modify this based on your chain's return format\n",
    "    model_output = run.outputs.get(\"response\") or run.outputs\n",
    "    print(f\"Model Response: {model_output}\")\n",
    "\n",
    "    for eval_result in eval_results:\n",
    "        print(f\"Evaluation Key: {eval_result.key}\")\n",
    "        print(f\"Score: {eval_result.score}\")\n",
    "        if eval_result.comment:\n",
    "            print(f\"Comment: {eval_result.comment}\")\n",
    "\n",
    "    print(\"-\" * 60)\n"
   ]
  },
  {
   "cell_type": "code",
   "execution_count": null,
   "metadata": {},
   "outputs": [],
   "source": []
  }
 ],
 "metadata": {
  "kernelspec": {
   "display_name": "venv",
   "language": "python",
   "name": "python3"
  },
  "language_info": {
   "codemirror_mode": {
    "name": "ipython",
    "version": 3
   },
   "file_extension": ".py",
   "mimetype": "text/x-python",
   "name": "python",
   "nbconvert_exporter": "python",
   "pygments_lexer": "ipython3",
   "version": "3.13.1"
  }
 },
 "nbformat": 4,
 "nbformat_minor": 2
}
